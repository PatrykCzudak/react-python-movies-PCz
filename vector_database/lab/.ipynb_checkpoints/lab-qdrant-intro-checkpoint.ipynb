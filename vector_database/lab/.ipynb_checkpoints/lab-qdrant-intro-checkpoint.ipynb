{
 "cells": [
  {
   "cell_type": "markdown",
   "id": "bca67803-ce95-44b6-9a6c-ab1941ec29af",
   "metadata": {},
   "source": [
    "# Wektorowe bazy danych\n",
    "\n",
    "Na dzisiejszym laboratorium poznamy wektorowe bazy danych na przykładzie bazy Qdrant - [qdrant.tech](https://qdrant.tech).\n",
    "\n",
    "Na początek zainstalujmy biblioteki dla Pythona, których będziemy używać w trakcie zajęć."
   ]
  },
  {
   "cell_type": "code",
   "execution_count": null,
   "id": "edc90488-22f1-49c5-a3ba-25a25c23e748",
   "metadata": {},
   "outputs": [],
   "source": [
    "!pip install qdrant-client"
   ]
  },
  {
   "cell_type": "markdown",
   "id": "113100da-0a26-4c98-9301-86de8ec2b138",
   "metadata": {},
   "source": [
    "## Docker\n",
    "\n",
    "Jeśli uruchomiłaś/eś to laboratorium za pomocą Dockera, instancja bazy danych Qdrant powinna już być uruchomiona i dostępna pod poniższymi adresami.\n",
    "\n",
    "* [localhost:6333](http://localhost:6333) - REST API\n",
    "* [localhost:6333/dashbaord](http://localhost:6333/dashboard) - Dashboard\n"
   ]
  },
  {
   "cell_type": "code",
   "execution_count": null,
   "id": "0a7aa477-f34a-4e33-9fb5-e739f36e1194",
   "metadata": {},
   "outputs": [],
   "source": [
    "from qdrant_client import QdrantClient\n",
    "\n",
    "qdrant_client = QdrantClient(\"qdrant\", port=6333)"
   ]
  },
  {
   "cell_type": "markdown",
   "id": "7b670cfe-93b2-4e0f-90ae-83ea2fd7dd9e",
   "metadata": {},
   "source": [
    "## Nie Docker\n",
    "\n",
    "Osoby, którym nie działa Docker, powinny skorzystać z Qdrant Cloud wg poniższych instrukcji.\n",
    "\n",
    "1. Wejdź na [cloud.qdrant.io](https://cloud.qdrant.io/login) i załóż konto / zaloguj się.\n",
    "2. Przejdź do sekcji *Clusters* i wybierz *Create*.\n",
    "3. Wybierz opcję *Free* i kliknij *Create* na samym dole.\n",
    "4. Wejdź w szczegóły klastra (trzy kropeczki -> *Details*), a następnie wybierz kartę *API Keys*.\n",
    "5. Kliknij *Create*, co spowoduje wygenerowanie nowego *API KEY*.\n",
    "6. Z listy rozwijanej *Usage examples* wybierz *python* i na jego podstawie wypełnij blok kodu poniżej.\n",
    "7. Wróć do listy klastrów i poczekaj, aż status Twojego klastra zmieni się na *HEALTHY*.\n",
    "8. Spróbuj połączyć się z klastrem za pomocą poniższego kodu."
   ]
  },
  {
   "cell_type": "code",
   "execution_count": null,
   "id": "e068f683-9b85-4f69-ba80-e900bd122705",
   "metadata": {},
   "outputs": [],
   "source": [
    "from qdrant_client import QdrantClient\n",
    "\n",
    "qdrant_client = QdrantClient(\n",
    "    url=\"TWOJ_URL\", \n",
    "    api_key=\"TWOJ_API_KEY\",\n",
    ")"
   ]
  },
  {
   "cell_type": "markdown",
   "id": "84fe2163-7378-45cf-9e59-92939960f13b",
   "metadata": {},
   "source": [
    "## Tworzenie kolekcji\n",
    "\n",
    "Wektorowe bazy danych przechowują dane w kolekcjach. Kolekcja określa długość przechowywanych wektorów oraz sposób ich porównywania."
   ]
  },
  {
   "cell_type": "code",
   "execution_count": null,
   "id": "27648f35-0389-46bc-ac1f-8caa1334d8fe",
   "metadata": {},
   "outputs": [],
   "source": [
    "from qdrant_client.http.models import Distance, VectorParams\n",
    "\n",
    "qdrant_client.create_collection(\n",
    "    collection_name=\"test_collection\",\n",
    "    vectors_config=VectorParams(size=4, distance=Distance.DOT),\n",
    ")"
   ]
  },
  {
   "cell_type": "markdown",
   "id": "606b0b69-7677-40fb-a812-3cf5276ca520",
   "metadata": {},
   "source": [
    "## Wstawianie danych\n",
    "\n",
    "Do kolekcji można wstawić wektory o zadeklarowanej długości oraz `payload`, czyli metadane, które będą przechowane razem z wektorem i które w jakiś sposób go opisują."
   ]
  },
  {
   "cell_type": "code",
   "execution_count": null,
   "id": "2615ef93-9b79-4972-a0d4-cf16c0f2e7e4",
   "metadata": {},
   "outputs": [],
   "source": [
    "from qdrant_client.http.models import PointStruct\n",
    "\n",
    "qdrant_client.upsert(\n",
    "    collection_name=\"test_collection\",\n",
    "    wait=True,\n",
    "    points=[\n",
    "        PointStruct(id=1, vector=[0.05, 0.61, 0.76, 0.74], payload={\"city\": \"Berlin\"}),\n",
    "        PointStruct(id=2, vector=[0.19, 0.81, 0.75, 0.11], payload={\"city\": \"London\"}),\n",
    "        PointStruct(id=3, vector=[0.36, 0.55, 0.47, 0.94], payload={\"city\": \"Moscow\"}),\n",
    "        PointStruct(id=4, vector=[0.18, 0.01, 0.85, 0.80], payload={\"city\": \"New York\"}),\n",
    "        PointStruct(id=5, vector=[0.24, 0.18, 0.22, 0.44], payload={\"city\": \"Beijing\"}),\n",
    "        PointStruct(id=6, vector=[0.35, 0.08, 0.11, 0.44], payload={\"city\": \"Mumbai\"}),\n",
    "    ],\n",
    ")"
   ]
  },
  {
   "cell_type": "markdown",
   "id": "fa115ec4-7bc3-4ff8-a8e9-342da09de684",
   "metadata": {},
   "source": [
    "## Wyszukiwanie podobnych (bliskich) wektorów\n",
    "\n",
    "Podobieństwo wektorów oznacza jest mierzona w ich bliskości w przestrzeni, w której się znajdują. Im bliżej siebie są wektory tym bardziej podobne dane reprezentują.\n",
    "\n",
    "![](img/encoders.png)\n",
    "\n",
    "Podobieństwo to jest mierzone z użyciem metryki określonej przy tworzeniu kolekcji. \n",
    "W naszym przypadku jest to `DOT` - czyli iloczyn skalarny ([wiki/Dot_product](https://en.wikipedia.org/wiki/Dot_product)).\n",
    "Inne, popularne metryki to odległość euklidesowa ([wiki/Euclidean_distance](https://en.wikipedia.org/wiki/Euclidean_distance)) \n",
    "lub podobieństwo cosinus ([wiki/Cosine_similarity](https://en.wikipedia.org/wiki/Cosine_similarity)). \n",
    "Wybór metryki powinien być podyktowany typem danych, z którym mamy do czynienia.\n",
    "\n",
    "Więcej informacji na ten temat znajdziesz w dokumentacji Qdranta - [https://qdrant.tech/documentation/concepts/search/](https://qdrant.tech/documentation/concepts/search/)."
   ]
  },
  {
   "cell_type": "code",
   "execution_count": null,
   "id": "256e8597-b543-4cbe-89b2-930de0f34f69",
   "metadata": {},
   "outputs": [],
   "source": [
    "search_result = qdrant_client.search(\n",
    "    collection_name=\"test_collection\", \n",
    "    query_vector=[0.2, 0.1, 0.9, 0.7], \n",
    "    limit=3,\n",
    ")\n",
    "\n",
    "print(search_result)"
   ]
  },
  {
   "cell_type": "markdown",
   "id": "40eef71a-165e-4bb7-b89c-cbecf9d46df5",
   "metadata": {},
   "source": [
    "## Filtrowanie wyników\n",
    "\n",
    "Oczywiście można zawężyć zbiór wynikowy, jeśli szukamy podobnych wektorów, które dodatkowo spełniają jakieś warunki dotyczące przechowywanych metadanych wektorów."
   ]
  },
  {
   "cell_type": "code",
   "execution_count": null,
   "id": "99c05668-122b-49b9-aa6d-7470727a4d58",
   "metadata": {},
   "outputs": [],
   "source": [
    "from qdrant_client.http.models import Filter, FieldCondition, MatchValue\n",
    "\n",
    "search_result = qdrant_client.search(\n",
    "    collection_name=\"test_collection\",\n",
    "    query_vector=[0.2, 0.1, 0.9, 0.7],\n",
    "    query_filter=Filter(\n",
    "        must=[FieldCondition(key=\"city\", match=MatchValue(value=\"London\"))]\n",
    "    ),\n",
    "    with_payload=True,\n",
    "    limit=3,\n",
    ")\n",
    "\n",
    "print(search_result)"
   ]
  }
 ],
 "metadata": {
  "kernelspec": {
   "display_name": "Python 3 (ipykernel)",
   "language": "python",
   "name": "python3"
  },
  "language_info": {
   "codemirror_mode": {
    "name": "ipython",
    "version": 3
   },
   "file_extension": ".py",
   "mimetype": "text/x-python",
   "name": "python",
   "nbconvert_exporter": "python",
   "pygments_lexer": "ipython3",
   "version": "3.11.7"
  }
 },
 "nbformat": 4,
 "nbformat_minor": 5
}
