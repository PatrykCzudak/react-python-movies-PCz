{
 "cells": [
  {
   "cell_type": "markdown",
   "id": "f3830035-4c93-436d-aa9e-60885ce55d31",
   "metadata": {},
   "source": [
    "# Inteligentnta wyszukiwarka\n",
    "\n",
    "W pierwszym przypadku użycia wykorzystamy wektorową bazę danych do stworzenia inteligentnej wyszukiwarki tekstowej. Nie będzie ona działać na wyszukiwaniu podobnych ciągów znaków,\n",
    "a zamiast tego będzie opierać się na wektorowej reprezentacji tekstu. Mocno upraszczając - z każdego tekstu da się stworzyć wektor, który reprezentuje użyte\n",
    "w tekście słowa. Wektor ten, umieszczony w wielowymiarowej przestrzeni, reprezentuje znaczenie tekstu.\n",
    "\n",
    "Poniższe komendy instalują bilbiotekę *Sentence Transformers* ([sbert.net](https://www.sbert.net/)), która posiada wbudowane modele potrafiące przekształcać tekst na wektor.\n",
    "Moglibyśmy po prostu wykonać `pip install sentence-transformers`, ale ta komenda pobrałaby wszystkie zależności, w tym możliwość uruchamiania transformerów na GPU, czego nie potrzebujemy\n",
    "w trakcie laboratorium. Dzięki pominięciu tych zależności oszczędzimy pobieranie około 2 GB."
   ]
  },
  {
   "cell_type": "code",
   "execution_count": null,
   "id": "1a78fd02-400b-49b1-821d-7c0d375efd70",
   "metadata": {},
   "outputs": [],
   "source": [
    "!pip install torch torchvision --index-url https://download.pytorch.org/whl/cpu\n",
    "!pip install transformers tqdm numpy scikit-learn scipy nltk sentencepiece\n",
    "!pip install --no-deps sentence-transformers"
   ]
  },
  {
   "cell_type": "markdown",
   "id": "726b0d6d-6aac-4852-b317-563c5b4b434a",
   "metadata": {},
   "source": [
    "Od teraz możemy używać transformera, by przekształcić dowolny tekst w wektor. Użyjemy do tego wytrenowanego modelu \n",
    "[all-MiniLM-L6-v2](https://huggingface.co/sentence-transformers/all-MiniLM-L6-v2)."
   ]
  },
  {
   "cell_type": "code",
   "execution_count": null,
   "id": "66522a3a-f536-42b8-bc6d-df1adc5ab57d",
   "metadata": {},
   "outputs": [],
   "source": [
    "from sentence_transformers import SentenceTransformer\n",
    "\n",
    "encoder = SentenceTransformer(\"all-MiniLM-L6-v2\")\n",
    "\n",
    "encoder.encode(\"Ala zostawiła kota w domu, bo uczy się korzystać z wektorowych baz danych.\")"
   ]
  },
  {
   "cell_type": "markdown",
   "id": "2ca9ea0a-e2fe-4140-acf5-36afdd4bb9ed",
   "metadata": {},
   "source": [
    "# Zadanie\n",
    "\n",
    "Twoim zadaniem jest dostarczenie możliwości wyszukiwania tekstów w wektorowej bazie danych.\n",
    "\n",
    "1. Zapoznaj się z plikiem `movies.json`. Zawiera on dane testowe zawierające listę filmów wraz z krótkim opisem fabuły z repozytorium [erik-sytnyk/movies-list](https://github.com/erik-sytnyk/movies-list/blob/master/db.json).\n",
    "2. Połącz się z Twoją instancją Qdrant.\n",
    "3. Stwórz kolekcję, która przechowa wektory tekstów (w tym przypadku dobrą odległością będzie `COSINE`, bo podobne teksty układają się w *podobną stronę* w przestrzeni.\n",
    "4. Wczytaj dane testowe, zwektoryzuj je i zapisz je w bazie danych.\n",
    "5. Napisz funkcję, która na podstawie zadanej frazy zwróci pasujące filmy."
   ]
  },
  {
   "cell_type": "code",
   "execution_count": null,
   "id": "e2bfa197-fa88-4721-90ab-31aebe142412",
   "metadata": {},
   "outputs": [],
   "source": []
  }
 ],
 "metadata": {
  "kernelspec": {
   "display_name": "Python 3 (ipykernel)",
   "language": "python",
   "name": "python3"
  },
  "language_info": {
   "codemirror_mode": {
    "name": "ipython",
    "version": 3
   },
   "file_extension": ".py",
   "mimetype": "text/x-python",
   "name": "python",
   "nbconvert_exporter": "python",
   "pygments_lexer": "ipython3",
   "version": "3.11.7"
  }
 },
 "nbformat": 4,
 "nbformat_minor": 5
}
